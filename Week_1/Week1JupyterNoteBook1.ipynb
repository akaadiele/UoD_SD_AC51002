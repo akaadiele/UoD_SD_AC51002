{
 "cells": [
  {
   "cell_type": "markdown",
   "metadata": {},
   "source": [
    "# My First Notebook"
   ]
  },
  {
   "cell_type": "code",
   "execution_count": 4,
   "metadata": {},
   "outputs": [
    {
     "name": "stdout",
     "output_type": "stream",
     "text": [
      "Hello World!\n"
     ]
    }
   ],
   "source": [
    "print('Hello World!')"
   ]
  },
  {
   "cell_type": "markdown",
   "metadata": {},
   "source": [
    "# Section 1"
   ]
  },
  {
   "cell_type": "markdown",
   "metadata": {},
   "source": [
    "## Nested Section"
   ]
  },
  {
   "cell_type": "markdown",
   "metadata": {},
   "source": [
    "# Section 2"
   ]
  },
  {
   "cell_type": "markdown",
   "metadata": {},
   "source": [
    "# Week 1 Lab - Tasks 1"
   ]
  },
  {
   "cell_type": "code",
   "execution_count": 5,
   "metadata": {},
   "outputs": [
    {
     "name": "stdout",
     "output_type": "stream",
     "text": [
      "My name is Akachukwu\n",
      "2\n",
      "1 + 1\n",
      "(1, 'text')\n",
      "324518553658426726783156020576256\n",
      "0.4334217737843072\n",
      "14\n",
      "20\n",
      "16380061493\n",
      "The \"Dundee Express\" is due at 2 o'clock.\n",
      "I hope it is on time.\n"
     ]
    }
   ],
   "source": [
    "# Tasks #8\n",
    "\n",
    "\n",
    "\n",
    "print('My name is Akachukwu')\n",
    "\n",
    "#--------------\n",
    "\n",
    "Q2_a = 1 + 1\n",
    "print(Q2_a)\n",
    "\n",
    "Q2_b = \"1 + 1\"\n",
    "print(Q2_b)\n",
    "\n",
    "Q2_c = 1,'text'\n",
    "print(Q2_c)\n",
    "#print(1,'text')\n",
    "\n",
    "#--------------\n",
    "\n",
    "print(2 ** 108)\n",
    "\n",
    "#--------------\n",
    "\n",
    "print(3 ** -0.761)\n",
    "\n",
    "#--------------\n",
    "\n",
    "print(2 + 3 * 4)\n",
    "\n",
    "print((2 + 3) * 4)\n",
    "\n",
    "#--------------\n",
    "\n",
    "print(2 ** 43 // 537)\n",
    "\n",
    "#--------------\n",
    "\n",
    "s = 'The \"Dundee Express\" is due at 2 o\\'clock.\\nI hope it is on time.' \n",
    "print(s)"
   ]
  },
  {
   "cell_type": "markdown",
   "metadata": {},
   "source": [
    "# Week 1 Lab - Tasks 2"
   ]
  },
  {
   "cell_type": "code",
   "execution_count": 6,
   "metadata": {},
   "outputs": [],
   "source": [
    "# A python program to add three numbers\n",
    "\n",
    "number1 = int(input('Input the first number: '))\n",
    "number2 = int(input('Input the second number: '))\n",
    "number3 = int(input('Input the third number: '))\n",
    "\n",
    "sumValue = number1 + number2 + number3\n",
    "\n",
    "print('The sum of the three numbers is: ', sumValue)\n"
   ]
  },
  {
   "cell_type": "markdown",
   "metadata": {},
   "source": [
    "# Week 1 Lab - Tasks 3"
   ]
  },
  {
   "cell_type": "code",
   "execution_count": null,
   "metadata": {},
   "outputs": [],
   "source": [
    "# A program to implement Heron's formula\n",
    "\n",
    "import math\n",
    "\n",
    "halfVal = 1 / 2\n",
    "\n",
    "sideA = 9\n",
    "sideB = 11\n",
    "sideC = 16\n",
    "\n",
    "sVal = halfVal * (sideA + sideB + sideC)\n",
    "\n",
    "sCalc = (sVal * (sVal - sideA) * (sVal - sideB) * (sVal - sideC) )\n",
    "print(sCalc)\n",
    "\n",
    "print('The area of the Triangle is: ', math.sqrt(sCalc))\n"
   ]
  },
  {
   "cell_type": "markdown",
   "metadata": {},
   "source": [
    "# Week 1 Lab - Tasks 4"
   ]
  },
  {
   "cell_type": "code",
   "execution_count": null,
   "metadata": {},
   "outputs": [],
   "source": [
    "# A python program to convert degrees from Fahrenheit to Centigrade\n",
    "\n",
    "\n",
    "centValue = float(input('Input the degree value in Centigrade: '))\n",
    "fahValue = ( (9 * centValue) / 5) + 32\n",
    "print('The equivalent in Fahrenheit is :', fahValue)\n",
    "\n",
    "\n",
    "print('Press enter to continue to reverse conversion')\n",
    "input()\n",
    "\n",
    "fahValue = float(input('Input the degree value in Fahrenheit: '))\n",
    "centValue = (fahValue - 32) * (5 / 9)\n",
    "print('The equivalent in Centigrade is :', centValue)"
   ]
  },
  {
   "cell_type": "markdown",
   "metadata": {},
   "source": [
    "# Week 1 Lab - Tasks 5"
   ]
  },
  {
   "cell_type": "code",
   "execution_count": null,
   "metadata": {},
   "outputs": [],
   "source": [
    "# Print numbers from 0 to 9 using for loop\n",
    "\n",
    "for i in range(10):\n",
    "    print(i)"
   ]
  },
  {
   "cell_type": "markdown",
   "metadata": {},
   "source": [
    "# Week 1 Lab - Tasks 6"
   ]
  },
  {
   "cell_type": "code",
   "execution_count": null,
   "metadata": {},
   "outputs": [],
   "source": [
    "# Print numbers from 0 to a maximum value inputted\n",
    "\n",
    "max_num = int(input('The range is :'))\n",
    "                    \n",
    "for i in range(max_num):\n",
    "    print(i)"
   ]
  },
  {
   "cell_type": "markdown",
   "metadata": {},
   "source": [
    "# Week 1 Lab - Tasks 7"
   ]
  },
  {
   "cell_type": "code",
   "execution_count": null,
   "metadata": {},
   "outputs": [],
   "source": [
    "# Print numbers counting backward from 9 to 0 using for loop\n",
    "\n",
    "for i in range(10, 0, -1):\n",
    "    print(i)"
   ]
  },
  {
   "cell_type": "markdown",
   "metadata": {},
   "source": [
    "# Week 1 Lab - Tasks 8"
   ]
  },
  {
   "cell_type": "code",
   "execution_count": null,
   "metadata": {},
   "outputs": [],
   "source": [
    "# A program to implement Heron's formula\n",
    "\n",
    "import math\n",
    "\n",
    "halfVal = 1 / 2\n",
    "\n",
    "sideA = 9\n",
    "sideB = 11\n",
    "sideC = 16\n",
    "\n",
    "sVal = halfVal * (sideA + sideB + sideC)\n",
    "\n",
    "sCalc = (sVal * (sVal - sideA) * (sVal - sideB) * (sVal - sideC) )\n",
    "print(sCalc)\n",
    "\n",
    "print('The area of the Triangle is: ', math.sqrt(sCalc))\n"
   ]
  }
 ],
 "metadata": {
  "kernelspec": {
   "display_name": ".venv",
   "language": "python",
   "name": "python3"
  },
  "language_info": {
   "codemirror_mode": {
    "name": "ipython",
    "version": 3
   },
   "file_extension": ".py",
   "mimetype": "text/x-python",
   "name": "python",
   "nbconvert_exporter": "python",
   "pygments_lexer": "ipython3",
   "version": "3.12.6"
  }
 },
 "nbformat": 4,
 "nbformat_minor": 2
}
